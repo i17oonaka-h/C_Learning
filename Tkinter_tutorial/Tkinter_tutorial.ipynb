{
 "cells": [
  {
   "cell_type": "markdown",
   "metadata": {
    "id": "k-k0Z-uEA-yU"
   },
   "source": [
    "# 最初の準備\n"
   ]
  },
  {
   "cell_type": "markdown",
   "metadata": {
    "id": "H9et86ICBNN2"
   },
   "source": [
    "## インストール"
   ]
  },
  {
   "cell_type": "markdown",
   "metadata": {
    "id": "5ewRTItBBT1h"
   },
   "source": [
    "[Tkinterのインストール](https://python.keicode.com/advanced/tkinter-install.php)  \n",
    "※[Python3のインストール](https://www.python.jp/install/install.html)"
   ]
  },
  {
   "cell_type": "markdown",
   "metadata": {
    "id": "CTKwZsT1CEMn"
   },
   "source": [
    "# 仕様早引き表"
   ]
  },
  {
   "cell_type": "markdown",
   "metadata": {
    "id": "fRhL8g1uCI-h"
   },
   "source": [
    "## import"
   ]
  },
  {
   "cell_type": "code",
   "execution_count": 1,
   "metadata": {
    "id": "cqme9XVBCMTG"
   },
   "outputs": [],
   "source": [
    "import tkinter as tk"
   ]
  },
  {
   "cell_type": "markdown",
   "metadata": {
    "id": "ZF8cdKKRCZOG"
   },
   "source": [
    "## ウィンドウの作成方法\n"
   ]
  },
  {
   "cell_type": "markdown",
   "metadata": {},
   "source": [
    "TkinterのインスタンスであるTkクラスを使用する.\n",
    "```\n",
    "window.mainloop()\n",
    "```\n",
    "これが無いとTkinterアプリケーションは実行されず何も表示されない\n"
   ]
  },
  {
   "cell_type": "code",
   "execution_count": 3,
   "metadata": {
    "colab": {
     "base_uri": "https://localhost:8080/",
     "height": 286
    },
    "id": "jKhnVDOZCndb",
    "outputId": "73447d9b-dc5a-46c4-b145-6969036f0183"
   },
   "outputs": [],
   "source": [
    "window = tk.Tk()\n",
    "window.mainloop()"
   ]
  },
  {
   "cell_type": "markdown",
   "metadata": {
    "id": "S8FSN8S_CR8w"
   },
   "source": [
    "## ウィジェットの追加"
   ]
  },
  {
   "cell_type": "markdown",
   "metadata": {},
   "source": [
    "tk.Labelクラスを使用して，ウィンドウにテキストを追加してみる．\n",
    "変数greetingに作成したウィジェットを割り当てる．"
   ]
  },
  {
   "cell_type": "code",
   "execution_count": 4,
   "metadata": {},
   "outputs": [],
   "source": [
    "greeting = tk.Label(text=\"Hello,Tkinter\")"
   ]
  },
  {
   "cell_type": "markdown",
   "metadata": {},
   "source": [
    "これだけだとまだ追加されていない．.pack()メソッドを使用してウィンドウに追加できる．"
   ]
  },
  {
   "cell_type": "code",
   "execution_count": 5,
   "metadata": {},
   "outputs": [],
   "source": [
    "greeting.pack()"
   ]
  },
  {
   "cell_type": "code",
   "execution_count": 6,
   "metadata": {},
   "outputs": [],
   "source": [
    "window.mainloop()"
   ]
  },
  {
   "cell_type": "markdown",
   "metadata": {},
   "source": [
    "<img src=\"picture/greeting.png\">"
   ]
  },
  {
   "cell_type": "markdown",
   "metadata": {},
   "source": [
    "## ウィジェットの操作"
   ]
  },
  {
   "cell_type": "markdown",
   "metadata": {},
   "source": [
    "ウィジェットはPythonGUIフレームワークの基本であり，以下はその一部の紹介"
   ]
  },
  {
   "cell_type": "markdown",
   "metadata": {},
   "source": [
    "Label：画面にテキストを表示させるために使用するウィジェットクラス  \n",
    "Button：テキストを含めることが出来，クリックするとアクションを実行できるボタン  \n",
    "Entry：1行のテキストのみを許可するテキスト入力ウィジェット  \n",
    "Text：複数行のテキスト入力を可能にするテキスト入力ウィジェット  \n",
    "Frame：関連するウィジェットをグループ化する"
   ]
  },
  {
   "cell_type": "markdown",
   "metadata": {},
   "source": [
    "### Labelウィジェットを使用したテキストと画像の表示"
   ]
  },
  {
   "cell_type": "markdown",
   "metadata": {},
   "source": [
    "Labelウィジェットによって表示されるテキストはユーザが編集することは出来ない．  \n",
    "宣言の例"
   ]
  },
  {
   "cell_type": "code",
   "execution_count": null,
   "metadata": {},
   "outputs": [],
   "source": [
    "label = tk.Label(text=\"Hello,Tkinter\")"
   ]
  },
  {
   "cell_type": "markdown",
   "metadata": {},
   "source": [
    "テキストの文字色とその背景色の変更が可能  \n",
    "[使用可能な色のまとめ](http://www.science.smith.edu/dftwiki/index.php/Color_Charts_for_TKinter)  \n",
    "以下，その例"
   ]
  },
  {
   "cell_type": "code",
   "execution_count": null,
   "metadata": {},
   "outputs": [],
   "source": [
    "label = tk.Label(\n",
    "    text=\"Hello, Tkinter\",\n",
    "    foreground=\"white\",  # Set the text color to white\n",
    "    background=\"black\"  # Set the background color to black\n",
    ")"
   ]
  },
  {
   "cell_type": "markdown",
   "metadata": {},
   "source": [
    "16進数のRGB値も使用可能"
   ]
  },
  {
   "cell_type": "code",
   "execution_count": 7,
   "metadata": {},
   "outputs": [],
   "source": [
    "label = tk.Label(text=\"Hello, Tkinter\", background=\"#34A2FE\")\n",
    "label.pack()\n",
    "window.mainloop()"
   ]
  },
  {
   "cell_type": "markdown",
   "metadata": {},
   "source": [
    "<img src=\"picture/greetingBlue.png\">"
   ]
  },
  {
   "cell_type": "markdown",
   "metadata": {},
   "source": [
    "widthおよびheightパラメータを使用して，ラベルの幅と高さを制御できる．"
   ]
  },
  {
   "cell_type": "code",
   "execution_count": 9,
   "metadata": {},
   "outputs": [],
   "source": [
    "label = tk.Label(\n",
    "    text=\"Hello, Tkinter\",\n",
    "    fg=\"white\",\n",
    "    bg=\"black\",\n",
    "    width=10,\n",
    "    height=10\n",
    ")\n",
    "\n",
    "label.pack()\n",
    "window.mainloop()"
   ]
  },
  {
   "cell_type": "markdown",
   "metadata": {},
   "source": [
    "<img src=\"picture/greetingSize.png\">"
   ]
  },
  {
   "cell_type": "markdown",
   "metadata": {},
   "source": [
    "幅と高さはテキスト単位で測定されるためきれいな正方形になっていない．"
   ]
  },
  {
   "cell_type": "markdown",
   "metadata": {},
   "source": [
    "### Buttonウィジェットでボタンを実装"
   ]
  },
  {
   "cell_type": "markdown",
   "metadata": {},
   "source": [
    "基本的にはButtonはLabelとよく似ていて色の設定やサイズも同じように設定可能"
   ]
  },
  {
   "cell_type": "code",
   "execution_count": 10,
   "metadata": {},
   "outputs": [],
   "source": [
    "window = tk.Tk()\n",
    "\n",
    "button = tk.Button(\n",
    "    text=\"Click me!\",\n",
    "    width=25,\n",
    "    height=5,\n",
    "    bg=\"blue\",\n",
    "    fg=\"yellow\",\n",
    ")\n",
    "\n",
    "button.pack()\n",
    "window.mainloop()"
   ]
  },
  {
   "cell_type": "markdown",
   "metadata": {},
   "source": [
    "<img src=\"picture/button.png\">"
   ]
  },
  {
   "cell_type": "markdown",
   "metadata": {},
   "source": [
    "### Entryウィジェットで1行の入力を実装する"
   ]
  },
  {
   "cell_type": "markdown",
   "metadata": {},
   "source": [
    "Entryウィジェットの宣言方法"
   ]
  },
  {
   "cell_type": "code",
   "execution_count": 2,
   "metadata": {},
   "outputs": [],
   "source": [
    "entry = tk.Entry(fg=\"yellow\",bg=\"blue\",width=50)"
   ]
  },
  {
   "cell_type": "markdown",
   "metadata": {},
   "source": [
    "Entryウィジェットを使って実行できる主な操作  \n",
    ".get()：テキストを取得する  \n",
    ".delete()：テキストを削除する  \n",
    ".insert()：テキストを挿入する  \n",
    "  \n",
    "試してみる"
   ]
  },
  {
   "cell_type": "code",
   "execution_count": 15,
   "metadata": {},
   "outputs": [
    {
     "name": "stdout",
     "output_type": "stream",
     "text": [
      "python\n"
     ]
    }
   ],
   "source": [
    "import tkinter as tk\n",
    "window=tk.Tk()\n",
    "\n",
    "label=tk.Label(text=\"Name\")\n",
    "entry=tk.Entry()\n",
    "\n",
    "\n",
    "label.pack()\n",
    "entry.pack()\n",
    "entry.insert(0,\"python\")\n",
    "name=entry.get()\n",
    "print(name)\n",
    "entry.insert(0,\"real \")\n",
    "\n",
    "\n",
    "window.mainloop()"
   ]
  },
  {
   "cell_type": "markdown",
   "metadata": {},
   "source": [
    "<img src=\"picture/Entry.png\">"
   ]
  },
  {
   "cell_type": "markdown",
   "metadata": {},
   "source": [
    "### Textウィジェット"
   ]
  },
  {
   "cell_type": "markdown",
   "metadata": {},
   "source": [
    "TextウィジェットもEntryウィジェットと同じように，扱える．  \n",
    "複数行のテキストの扱いが可能"
   ]
  },
  {
   "cell_type": "code",
   "execution_count": 16,
   "metadata": {},
   "outputs": [],
   "source": [
    "window = tk.Tk()\n",
    "text_box = tk.Text()\n",
    "text_box.pack()\n",
    "\n",
    "window.mainloop()"
   ]
  },
  {
   "cell_type": "markdown",
   "metadata": {},
   "source": [
    "<img src=\"picture/Text.png\">"
   ]
  },
  {
   "cell_type": "markdown",
   "metadata": {},
   "source": [
    "Text.get(＜行番号(1で開始)＞，＜文字位置は0で開始＞)"
   ]
  },
  {
   "cell_type": "code",
   "execution_count": 20,
   "metadata": {},
   "outputs": [
    {
     "name": "stdout",
     "output_type": "stream",
     "text": [
      "H\n",
      "Hell\n",
      "Hllo\n",
      "World\n",
      "\n"
     ]
    }
   ],
   "source": [
    "window = tk.Tk()\n",
    "text_box = tk.Text()\n",
    "\n",
    "text_box.insert(\"1.0\",\"Hello\")\n",
    "moji=text_box.get(\"1.0\")\n",
    "moji2=text_box.get(\"1.0\",\"1.4\")\n",
    "\n",
    "text_box.pack()\n",
    "\n",
    "print(moji)\n",
    "print(moji2)\n",
    "\n",
    "text_box.insert(\"2.0\",\"\\nWorld\")\n",
    "text_box.delete(\"1.1\")\n",
    "moji=text_box.get(\"1.0\",tk.END)\n",
    "\n",
    "print(moji)\n",
    "\n",
    "window.mainloop()"
   ]
  },
  {
   "cell_type": "markdown",
   "metadata": {},
   "source": [
    "<img src=\"picture/Text2.png\">"
   ]
  },
  {
   "cell_type": "markdown",
   "metadata": {},
   "source": [
    "### Frameウィジェット"
   ]
  },
  {
   "cell_type": "markdown",
   "metadata": {},
   "source": [
    "Frameウィジェットはウィジェットのレイアウトを整理するために使われる．  \n",
    "使い方はこんな感じでラベルとかにmasterでFrameを割り当てる．"
   ]
  },
  {
   "cell_type": "code",
   "execution_count": 21,
   "metadata": {},
   "outputs": [],
   "source": [
    "frame = tk.Frame()\n",
    "label = tk.Label(master=frame)"
   ]
  },
  {
   "cell_type": "markdown",
   "metadata": {},
   "source": [
    "とりあえず使ってみる"
   ]
  },
  {
   "cell_type": "code",
   "execution_count": 22,
   "metadata": {},
   "outputs": [],
   "source": [
    "import tkinter as tk\n",
    "\n",
    "window = tk.Tk()\n",
    "\n",
    "frame_a = tk.Frame()　#\n",
    "frame_b = tk.Frame()  #\n",
    "\n",
    "label_a = tk.Label(master=frame_a, text=\"I'm in Frame A\")\n",
    "label_a.pack()\n",
    "\n",
    "label_b = tk.Label(master=frame_b, text=\"I'm in Frame B\")\n",
    "label_b.pack()\n",
    "\n",
    "frame_a.pack()  #\n",
    "frame_b.pack()  #\n",
    "\n",
    "window.mainloop()"
   ]
  },
  {
   "cell_type": "markdown",
   "metadata": {},
   "source": [
    "<img src=\"picture/Frame1.png\">"
   ]
  },
  {
   "cell_type": "code",
   "execution_count": 23,
   "metadata": {},
   "outputs": [],
   "source": [
    "#frame_a,frame_bの.pack()の順番を逆にする\n",
    "\n",
    "import tkinter as tk\n",
    "\n",
    "window = tk.Tk()\n",
    "\n",
    "frame_a = tk.Frame()\n",
    "label_a = tk.Label(master=frame_a, text=\"I'm in Frame A\")\n",
    "label_a.pack()\n",
    "\n",
    "frame_b = tk.Frame()\n",
    "label_b = tk.Label(master=frame_b, text=\"I'm in Frame B\")\n",
    "label_b.pack()\n",
    "\n",
    "# Swap the order of `frame_a` and `frame_b`\n",
    "frame_b.pack()\n",
    "frame_a.pack()\n",
    "\n",
    "window.mainloop()"
   ]
  },
  {
   "cell_type": "markdown",
   "metadata": {},
   "source": [
    "<img src=\"picture/Frame2.png\">"
   ]
  },
  {
   "cell_type": "markdown",
   "metadata": {},
   "source": [
    "Frameウィジェットは周囲に境界線を作成する属性を利用できる．"
   ]
  },
  {
   "cell_type": "markdown",
   "metadata": {},
   "source": [
    "tk.FLAT：デフォルト値  \n",
    "tk.SUNKEN：沈んだような表示  \n",
    "tk.RAISED：盛り上がったような表示  \n",
    "tk.GROOVE：溝付のボーダー  \n",
    "tk.RIDGE：隆起したような表示  "
   ]
  },
  {
   "cell_type": "code",
   "execution_count": 24,
   "metadata": {},
   "outputs": [],
   "source": [
    "import tkinter as tk\n",
    "\n",
    "border_effects = {\n",
    "    \"flat\": tk.FLAT,\n",
    "    \"sunken\": tk.SUNKEN,\n",
    "    \"raised\": tk.RAISED,\n",
    "    \"groove\": tk.GROOVE,\n",
    "    \"ridge\": tk.RIDGE,\n",
    "}\n",
    "\n",
    "window = tk.Tk()\n",
    "\n",
    "for relief_name, relief in border_effects.items():\n",
    "    frame = tk.Frame(master=window, relief=relief, borderwidth=5)\n",
    "    frame.pack(side=tk.LEFT)\n",
    "    label = tk.Label(master=frame, text=relief_name)\n",
    "    label.pack()\n",
    "\n",
    "window.mainloop()"
   ]
  },
  {
   "cell_type": "markdown",
   "metadata": {},
   "source": [
    "<img src=\"picture/Frame3.png\">"
   ]
  },
  {
   "cell_type": "markdown",
   "metadata": {},
   "source": [
    "## レイアウトを整えるための機能"
   ]
  },
  {
   "cell_type": "markdown",
   "metadata": {},
   "source": [
    "### .pack()"
   ]
  },
  {
   "cell_type": "markdown",
   "metadata": {},
   "source": [
    "ウィジェットをFrameもしくはwindowに指定された順序で配置する．  \n",
    "1.ウィジェットを保持するのに十分な高さと幅の区画(長方形の領域)を計算  \n",
    "2.別の場所が指定されていなければウィジェットをその区画の中央に配置する"
   ]
  },
  {
   "cell_type": "code",
   "execution_count": 25,
   "metadata": {},
   "outputs": [],
   "source": [
    "import tkinter as tk\n",
    "\n",
    "window = tk.Tk()\n",
    "\n",
    "frame1 = tk.Frame(master=window, width=100, height=100, bg=\"red\")\n",
    "frame1.pack()\n",
    "\n",
    "frame2 = tk.Frame(master=window, width=50, height=50, bg=\"yellow\")\n",
    "frame2.pack()\n",
    "\n",
    "frame3 = tk.Frame(master=window, width=25, height=25, bg=\"blue\")\n",
    "frame3.pack()\n",
    "\n",
    "window.mainloop()"
   ]
  },
  {
   "cell_type": "markdown",
   "metadata": {},
   "source": [
    "<img src=\"picture/pack1.png\">"
   ]
  },
  {
   "cell_type": "markdown",
   "metadata": {},
   "source": [
    "fillキーワードを使用して塗りつぶしが設定可能  \n",
    "tk.X：水平方向の塗りつぶし  \n",
    "tk.Y：垂直方向の塗りつぶし  \n",
    "tk.BOTH：両方向の塗りつぶし"
   ]
  },
  {
   "cell_type": "code",
   "execution_count": 1,
   "metadata": {},
   "outputs": [],
   "source": [
    "import tkinter as tk\n",
    "\n",
    "window = tk.Tk()\n",
    "\n",
    "frame1 = tk.Frame(master=window, height=100, bg=\"red\")\n",
    "frame1.pack(fill=tk.X) #\n",
    "\n",
    "frame2 = tk.Frame(master=window, height=50, bg=\"yellow\")\n",
    "frame2.pack(fill=tk.X) #\n",
    "\n",
    "frame3 = tk.Frame(master=window, height=25, bg=\"blue\")\n",
    "frame3.pack(fill=tk.X) #\n",
    "\n",
    "window.mainloop()"
   ]
  },
  {
   "cell_type": "markdown",
   "metadata": {},
   "source": [
    "<img src=\"picture/pack2.png\">"
   ]
  },
  {
   "cell_type": "markdown",
   "metadata": {},
   "source": [
    "sideキーワードで配置を設定可能．  \n",
    "・tk.TOP  \n",
    "・tk.BOTTOM  \n",
    "・tk.LEFT  \n",
    "・tk.RIGHT  \n",
    "次のコードは3つのフレームを左から右に並べて配置する"
   ]
  },
  {
   "cell_type": "code",
   "execution_count": 2,
   "metadata": {},
   "outputs": [],
   "source": [
    "import tkinter as tk\n",
    "\n",
    "window = tk.Tk()\n",
    "\n",
    "frame1 = tk.Frame(master=window, width=200, height=100, bg=\"red\")\n",
    "frame1.pack(fill=tk.Y, side=tk.LEFT)\n",
    "\n",
    "frame2 = tk.Frame(master=window, width=100, bg=\"yellow\")\n",
    "frame2.pack(fill=tk.Y, side=tk.LEFT)\n",
    "\n",
    "frame3 = tk.Frame(master=window, width=50, bg=\"blue\")\n",
    "frame3.pack(fill=tk.Y, side=tk.LEFT)\n",
    "\n",
    "window.mainloop()"
   ]
  },
  {
   "cell_type": "markdown",
   "metadata": {},
   "source": [
    "<img src=\"picture/pack3.png\">"
   ]
  },
  {
   "cell_type": "markdown",
   "metadata": {},
   "source": [
    "レイアウトがウィンドウサイズに依存しないようにするためにtk.BOTHを使う．  \n",
    "expandキーワードをTrueにする必要がある．"
   ]
  },
  {
   "cell_type": "code",
   "execution_count": 3,
   "metadata": {},
   "outputs": [],
   "source": [
    "import tkinter as tk\n",
    "\n",
    "window = tk.Tk()\n",
    "\n",
    "frame1 = tk.Frame(master=window, width=200, height=100, bg=\"red\")\n",
    "frame1.pack(fill=tk.BOTH, side=tk.LEFT, expand=True)\n",
    "\n",
    "frame2 = tk.Frame(master=window, width=100, bg=\"yellow\")\n",
    "frame2.pack(fill=tk.BOTH, side=tk.LEFT, expand=True)\n",
    "\n",
    "frame3 = tk.Frame(master=window, width=50, bg=\"blue\")\n",
    "frame3.pack(fill=tk.BOTH, side=tk.LEFT, expand=True)\n",
    "\n",
    "window.mainloop()"
   ]
  },
  {
   "cell_type": "markdown",
   "metadata": {},
   "source": [
    "### .place()"
   ]
  },
  {
   "cell_type": "markdown",
   "metadata": {},
   "source": [
    "ウィジェットの正確な位置の制御が可能．  \n",
    "\n",
    "x座標,y座標の2つを指定する必要があり，ウィンドウの左上が原点(0,0)になる．  \n",
    "テキスト単位でなくピクセル単位で測定されることに注意する．"
   ]
  },
  {
   "cell_type": "code",
   "execution_count": 6,
   "metadata": {},
   "outputs": [],
   "source": [
    "import tkinter as tk\n",
    "\n",
    "window = tk.Tk()\n",
    "\n",
    "frame = tk.Frame(master=window, width=500, height=500)\n",
    "frame.pack()\n",
    "\n",
    "label1 = tk.Label(master=frame, text=\"I'm at (0, 0)\", bg=\"red\")\n",
    "label1.place(x=0, y=0)\n",
    "\n",
    "label2 = tk.Label(master=frame, text=\"I'm at (75, 75)\", bg=\"yellow\")\n",
    "label2.place(x=75, y=75)\n",
    "\n",
    "window.mainloop()"
   ]
  },
  {
   "cell_type": "markdown",
   "metadata": {},
   "source": [
    "<img src=\"picture/place.png\">"
   ]
  },
  {
   "cell_type": "markdown",
   "metadata": {},
   "source": [
    ".place()には2つの欠点があるためあまり使用されない．  \n",
    "\n",
    "1.アプリケーションが多数のウィジェットを持つ時に.place()でレイアウトを管理するのは難しい．  \n",
    "2..place()でレイアウトされたウィジェットはウィンドウのサイズが変わっても位置が変わらない．  \n",
    "  →使われる端末への依存が高まってしまうため望ましくない．\n"
   ]
  },
  {
   "cell_type": "markdown",
   "metadata": {},
   "source": [
    "### .grid()"
   ]
  },
  {
   "cell_type": "markdown",
   "metadata": {},
   "source": [
    "最もよく使われるgeometry managerである．  \n",
    "ウィンドウを行と列に分割してウィジェットの位置関係を管理する．  \n",
    "row,columnキーワードを使用し，設定を行う．  \n",
    "\n",
    "次のコードは3×3に分けられたラベルを実装する．"
   ]
  },
  {
   "cell_type": "code",
   "execution_count": 1,
   "metadata": {},
   "outputs": [],
   "source": [
    "import tkinter as tk\n",
    "\n",
    "window = tk.Tk()\n",
    "\n",
    "for i in range(3):\n",
    "    for j in range(3):\n",
    "        frame = tk.Frame(\n",
    "            master=window,\n",
    "            relief=tk.RAISED,\n",
    "            borderwidth=1\n",
    "        )\n",
    "        frame.grid(row=i, column=j)\n",
    "        label = tk.Label(master=frame, text=f\"Row {i}\\nColumn {j}\")\n",
    "        label.pack()\n",
    "\n",
    "window.mainloop()"
   ]
  },
  {
   "cell_type": "markdown",
   "metadata": {},
   "source": [
    "<img src=\"picture/grid1.png\">"
   ]
  },
  {
   "cell_type": "markdown",
   "metadata": {},
   "source": [
    "パティング：グリッド同士の間の幅を追加する．  \n",
    "padx：水平方向に追加  \n",
    "pady：垂直方向に追加"
   ]
  },
  {
   "cell_type": "code",
   "execution_count": 8,
   "metadata": {},
   "outputs": [],
   "source": [
    "import tkinter as tk\n",
    "\n",
    "window = tk.Tk()\n",
    "\n",
    "for i in range(3):\n",
    "    for j in range(3):\n",
    "        frame = tk.Frame(\n",
    "            master=window,\n",
    "            relief=tk.RAISED,\n",
    "            borderwidth=1\n",
    "        )\n",
    "        frame.grid(row=i, column=j, padx=5, pady=5)\n",
    "        label = tk.Label(master=frame, text=f\"Row {i}\\nColumn {j}\")\n",
    "        label.pack()\n",
    "\n",
    "window.mainloop()"
   ]
  },
  {
   "cell_type": "markdown",
   "metadata": {},
   "source": [
    "<img src=\"picture/grid2.png\">"
   ]
  },
  {
   "cell_type": "markdown",
   "metadata": {},
   "source": [
    "ウィンドウサイズの変更によるグリッドサイズの変更は.columnconfigure()とrowconfigure()で行う．  \n",
    "weight：1以上に割り当てることで調整され，大きな重みが割り当てられたグリッドの方がより大きくなる．  \n",
    "minsize：行の高さ(列の幅)の最小サイズをピクセル単位で設定する．"
   ]
  },
  {
   "cell_type": "code",
   "execution_count": 2,
   "metadata": {},
   "outputs": [],
   "source": [
    "import tkinter as tk\n",
    "\n",
    "window = tk.Tk()\n",
    "\n",
    "for i in range(3):\n",
    "    window.columnconfigure(i, weight=1, minsize=75)\n",
    "    window.rowconfigure(i, weight=1, minsize=50)\n",
    "\n",
    "    for j in range(0, 3):\n",
    "        frame = tk.Frame(\n",
    "            master=window,\n",
    "            relief=tk.RAISED,\n",
    "            borderwidth=1\n",
    "        )\n",
    "        frame.grid(row=i, column=j, padx=5, pady=5)\n",
    "\n",
    "        label = tk.Label(master=frame, text=f\"Row {i}\\nColumn {j}\")\n",
    "        label.pack(padx=5, pady=5)\n",
    "\n",
    "window.mainloop()"
   ]
  },
  {
   "cell_type": "markdown",
   "metadata": {},
   "source": [
    "<img src=\"picture/grid3.png\">"
   ]
  },
  {
   "cell_type": "markdown",
   "metadata": {},
   "source": [
    "デフォルトでは，ウィジェットはグリッドを使用すると中央に配置される．  "
   ]
  },
  {
   "cell_type": "code",
   "execution_count": 10,
   "metadata": {},
   "outputs": [],
   "source": [
    "import tkinter as tk\n",
    "\n",
    "window = tk.Tk()\n",
    "window.columnconfigure(0, minsize=250)\n",
    "window.rowconfigure([0, 1], minsize=100)\n",
    "\n",
    "label1 = tk.Label(text=\"A\")\n",
    "label1.grid(row=0, column=0)\n",
    "\n",
    "label2 = tk.Label(text=\"B\")\n",
    "label2.grid(row=1, column=0)\n",
    "\n",
    "window.mainloop()"
   ]
  },
  {
   "cell_type": "markdown",
   "metadata": {},
   "source": [
    "<img src=\"picture/grid4.png\">"
   ]
  },
  {
   "cell_type": "markdown",
   "metadata": {},
   "source": [
    "stickyパラメータを使用して，グリッドセル内の配置を変更できる．  \n",
    "n(またはN)：セルの上部中央部分に揃えます   \n",
    "e(またはE)：セルの右中央部分に揃えます  \n",
    "s(またはS)：セルの中央下部分に揃えます  \n",
    "w(またはW)：セルの左中央部分に揃えます   "
   ]
  },
  {
   "cell_type": "code",
   "execution_count": 11,
   "metadata": {},
   "outputs": [],
   "source": [
    "import tkinter as tk\n",
    "\n",
    "window = tk.Tk()\n",
    "window.columnconfigure(0, minsize=250)\n",
    "window.rowconfigure([0, 1], minsize=100)\n",
    "\n",
    "label1 = tk.Label(text=\"A\")\n",
    "label1.grid(row=0, column=0, sticky=\"n\")\n",
    "\n",
    "label2 = tk.Label(text=\"B\")\n",
    "label2.grid(row=1, column=0, sticky=\"n\")\n",
    "\n",
    "window.mainloop()"
   ]
  },
  {
   "cell_type": "markdown",
   "metadata": {},
   "source": [
    "<img src=\"picture/grid5.png\">"
   ]
  },
  {
   "cell_type": "code",
   "execution_count": 12,
   "metadata": {},
   "outputs": [],
   "source": [
    "import tkinter as tk\n",
    "\n",
    "window = tk.Tk()\n",
    "window.columnconfigure(0, minsize=250)\n",
    "window.rowconfigure([0, 1], minsize=100)\n",
    "\n",
    "label1 = tk.Label(text=\"A\")\n",
    "label1.grid(row=0, column=0, sticky=\"ne\")\n",
    "\n",
    "label2 = tk.Label(text=\"B\")\n",
    "label2.grid(row=1, column=0, sticky=\"sw\")\n",
    "\n",
    "window.mainloop()"
   ]
  },
  {
   "cell_type": "markdown",
   "metadata": {},
   "source": [
    "<img src=\"picture/grid6.png\">"
   ]
  },
  {
   "cell_type": "markdown",
   "metadata": {},
   "source": [
    "stickyの\"ns\",\"ew\"は.place()における塗りつぶしfillキーワードに対応している．"
   ]
  },
  {
   "cell_type": "code",
   "execution_count": 13,
   "metadata": {},
   "outputs": [],
   "source": [
    "import tkinter as tk\n",
    "\n",
    "window = tk.Tk()\n",
    "\n",
    "window.rowconfigure(0, minsize=50)\n",
    "window.columnconfigure([0, 1, 2, 3], minsize=50)\n",
    "\n",
    "label1 = tk.Label(text=\"1\", bg=\"black\", fg=\"white\")\n",
    "label2 = tk.Label(text=\"2\", bg=\"black\", fg=\"white\")\n",
    "label3 = tk.Label(text=\"3\", bg=\"black\", fg=\"white\")\n",
    "label4 = tk.Label(text=\"4\", bg=\"black\", fg=\"white\")\n",
    "\n",
    "label1.grid(row=0, column=0)\n",
    "label2.grid(row=0, column=1, sticky=\"ew\")\n",
    "label3.grid(row=0, column=2, sticky=\"ns\")\n",
    "label4.grid(row=0, column=3, sticky=\"nsew\")\n",
    "\n",
    "window.mainloop()"
   ]
  },
  {
   "cell_type": "markdown",
   "metadata": {},
   "source": [
    "<img src=\"picture/grid7.png\">"
   ]
  },
  {
   "cell_type": "markdown",
   "metadata": {},
   "source": [
    "## イベントを設定する"
   ]
  },
  {
   "cell_type": "markdown",
   "metadata": {},
   "source": [
    "Tkinterではマウスによるクリックなどに対する挙動を**event handlers**を使用して設定する．"
   ]
  },
  {
   "cell_type": "markdown",
   "metadata": {},
   "source": [
    "window.mainloop()を呼び出すと，以下の役割をこなしてくれる．  \n",
    "1.発生したイベントのリストを管理．  \n",
    "2.発生したイベントのリストを管理し，そのリストに新しいイベントが追加されるたびにevent handlerを実行する．"
   ]
  },
  {
   "cell_type": "code",
   "execution_count": 14,
   "metadata": {},
   "outputs": [],
   "source": [
    "import tkinter as tk\n",
    "\n",
    "# Create a window object\n",
    "window = tk.Tk()\n",
    "\n",
    "# Create an event handler\n",
    "def handle_keypress(event):\n",
    "    \"\"\"Print the character associated to the key pressed\"\"\"\n",
    "    print(event.char)\n",
    "\n",
    "# Run the event loop\n",
    "window.mainloop()"
   ]
  },
  {
   "cell_type": "markdown",
   "metadata": {},
   "source": [
    "上記のコードだけでは不十分で上手く実装が出来ていない．  \n",
    "handle_keypress()を実装したのは良いけどそれをどこで使うのかを設定していない！"
   ]
  },
  {
   "cell_type": "markdown",
   "metadata": {},
   "source": [
    "### .bind()を使ってevent handlerを呼び出す"
   ]
  },
  {
   "cell_type": "code",
   "execution_count": 15,
   "metadata": {},
   "outputs": [
    {
     "name": "stdout",
     "output_type": "stream",
     "text": [
      "a\n",
      "b\n",
      "c\n",
      "d\n"
     ]
    }
   ],
   "source": [
    "import tkinter as tk\n",
    "\n",
    "window = tk.Tk()\n",
    "\n",
    "def handle_keypress(event):\n",
    "    \"\"\"押されたキーに対応する文字を表示する\"\"\"\n",
    "    print(event.char)\n",
    "\n",
    "# 「キーが押されたとき」にhandle_keypressを呼び出すように設定\n",
    "window.bind(\"<Key>\", handle_keypress)\n",
    "\n",
    "window.mainloop()"
   ]
  },
  {
   "cell_type": "markdown",
   "metadata": {},
   "source": [
    "上記のコードを実行後ウィンドウ上でabcdを順番に押すとstdoutにキーの文字が出力された．  "
   ]
  },
  {
   "cell_type": "markdown",
   "metadata": {},
   "source": [
    ".bind()は最低2つの引数を取る．  \n",
    "1.< event name >：Tkinter側で予め設定されたイベント名が入る(上の例では「Key」)  \n",
    "2.　1.で設定したイベントが発生した時に呼び出されるevent handler"
   ]
  },
  {
   "cell_type": "markdown",
   "metadata": {},
   "source": [
    "上の例ではwindowに.bind()でイベントを設定しているがButtonウィジェットなどにも設定可能"
   ]
  },
  {
   "cell_type": "code",
   "execution_count": 16,
   "metadata": {},
   "outputs": [
    {
     "name": "stdout",
     "output_type": "stream",
     "text": [
      "The button was clicked!\n",
      "The button was clicked!\n",
      "The button was clicked!\n",
      "The button was clicked!\n"
     ]
    }
   ],
   "source": [
    "def handle_click(event):\n",
    "    print(\"The button was clicked!\")\n",
    "\n",
    "window = tk.Tk()\n",
    "\n",
    "button = tk.Button(\n",
    "    text=\"Click me!\",\n",
    "    width=25,\n",
    "    height=5,\n",
    "    bg=\"blue\",\n",
    "    fg=\"yellow\",\n",
    ")\n",
    "\n",
    "button.bind(\"<Button-1>\",handle_click)\n",
    "\n",
    "button.pack()\n",
    "window.mainloop()"
   ]
  },
  {
   "cell_type": "markdown",
   "metadata": {},
   "source": [
    "ボタンが押されるとhandle_clickが実行された！"
   ]
  },
  {
   "cell_type": "markdown",
   "metadata": {},
   "source": [
    "Button-1：左クリック  \n",
    "Button-2：中央クリック  \n",
    "Button-3：右クリック"
   ]
  },
  {
   "cell_type": "markdown",
   "metadata": {},
   "source": [
    "### commandフィールドを使用してより簡単にイベントを実装する"
   ]
  },
  {
   "cell_type": "markdown",
   "metadata": {},
   "source": [
    "Buttonウィジェットはcommandフィールドを持つ．  \n",
    "commandに関数を割り当てるとボタンが押されるたびにその関数が実行される．  \n",
    "まず，例を見てみる．"
   ]
  },
  {
   "cell_type": "code",
   "execution_count": 1,
   "metadata": {},
   "outputs": [],
   "source": [
    "import tkinter as tk\n",
    "\n",
    "window = tk.Tk()\n",
    "\n",
    "window.rowconfigure(0, minsize=50, weight=1)\n",
    "window.columnconfigure([0, 1, 2], minsize=50, weight=1)\n",
    "\n",
    "btn_decrease = tk.Button(master=window, text=\"-\")\n",
    "btn_decrease.grid(row=0, column=0, sticky=\"nsew\")\n",
    "\n",
    "lbl_value = tk.Label(master=window, text=\"0\")\n",
    "lbl_value.grid(row=0, column=1)\n",
    "\n",
    "btn_increase = tk.Button(master=window, text=\"+\")\n",
    "btn_increase.grid(row=0, column=2, sticky=\"nsew\")\n",
    "\n",
    "window.mainloop()"
   ]
  },
  {
   "cell_type": "markdown",
   "metadata": {},
   "source": [
    "<img src=\"picture/command1.png\">"
   ]
  },
  {
   "cell_type": "markdown",
   "metadata": {},
   "source": [
    "ここまではレイアウトの実装のみ"
   ]
  },
  {
   "cell_type": "markdown",
   "metadata": {},
   "source": [
    "まずは，左ボタンの実装を考える．  \n",
    "そこで幾つかの問題があると分かる．  \n",
    "1.ラベルの文字列を取得するには？(中央の数字)  \n",
    "2.どうやってラベルのテキストを更新するには？  "
   ]
  },
  {
   "cell_type": "markdown",
   "metadata": {},
   "source": [
    "Labelウィジェットには.get()は無いが，以下のようにdict型を上手く使うことでラベルのテキストを取得することが出来ます．"
   ]
  },
  {
   "cell_type": "code",
   "execution_count": 3,
   "metadata": {},
   "outputs": [],
   "source": [
    "label = tk.Label(text=\"Hello\")\n",
    "\n",
    "# ラベルのテキストを取得する\n",
    "text = label[\"text\"]\n",
    "\n",
    "# ラベル用の新しいテキストを設定\n",
    "label[\"text\"] = \"Good bye\""
   ]
  },
  {
   "cell_type": "markdown",
   "metadata": {},
   "source": [
    "lbl_valueの値を1増加させる関数recrease()"
   ]
  },
  {
   "cell_type": "code",
   "execution_count": 4,
   "metadata": {},
   "outputs": [],
   "source": [
    "def increase():\n",
    "    value = int(lbl_value[\"text\"])\n",
    "    lbl_value[\"text\"] = f\"{value + 1}\""
   ]
  },
  {
   "cell_type": "markdown",
   "metadata": {},
   "source": [
    "lbl_valueの値を1減らす関数decrease()"
   ]
  },
  {
   "cell_type": "code",
   "execution_count": 5,
   "metadata": {},
   "outputs": [],
   "source": [
    "def decrease():\n",
    "    value = int(lbl_value[\"text\"])\n",
    "    lbl_value[\"text\"] = f\"{value - 1}\""
   ]
  },
  {
   "cell_type": "markdown",
   "metadata": {},
   "source": [
    "Buttonと関数をcommandで結びつける．"
   ]
  },
  {
   "cell_type": "code",
   "execution_count": 9,
   "metadata": {},
   "outputs": [],
   "source": [
    "import tkinter as tk\n",
    "\n",
    "def increase():\n",
    "    value = int(lbl_value[\"text\"])\n",
    "    lbl_value[\"text\"] = f\"{value + 1}\"\n",
    "\n",
    "\n",
    "def decrease():\n",
    "    value = int(lbl_value[\"text\"])\n",
    "    lbl_value[\"text\"] = f\"{value - 1}\"\n",
    "\n",
    "window = tk.Tk()\n",
    "\n",
    "window.rowconfigure(0, minsize=50, weight=1)\n",
    "window.columnconfigure([0, 1, 2], minsize=50, weight=1)\n",
    "\n",
    "btn_decrease = tk.Button(master=window, text=\"-\", command=decrease) #\n",
    "btn_decrease.grid(row=0, column=0, sticky=\"nsew\")\n",
    "\n",
    "lbl_value = tk.Label(master=window, text=\"0\")\n",
    "lbl_value.grid(row=0, column=1)\n",
    "\n",
    "btn_increase = tk.Button(master=window, text=\"+\", command=increase) #\n",
    "btn_increase.grid(row=0, column=2, sticky=\"nsew\")\n",
    "\n",
    "window.mainloop()"
   ]
  },
  {
   "cell_type": "markdown",
   "metadata": {},
   "source": [
    "<img src=\"picture/command2.png\">"
   ]
  },
  {
   "cell_type": "markdown",
   "metadata": {
    "id": "_xlfnH9gBuxJ"
   },
   "source": [
    "# Tkinterを使う\n",
    "参考資料：[Real Python](https://realpython.com/python-gui-tkinter/)"
   ]
  },
  {
   "cell_type": "markdown",
   "metadata": {
    "id": "yZUYj73IB0EP"
   },
   "source": [
    "## サイコロを振るシミュレーションを作る"
   ]
  },
  {
   "cell_type": "markdown",
   "metadata": {},
   "source": [
    "ユーザーがボタンをクリックすると、1から6までのランダムな整数が表示されるようにする．"
   ]
  },
  {
   "cell_type": "code",
   "execution_count": 10,
   "metadata": {
    "id": "K0chpB1cAnn3"
   },
   "outputs": [],
   "source": [
    "import random\n",
    "import tkinter as tk\n",
    "\n",
    "def roll():\n",
    "    lbl_result[\"text\"] = str(random.randint(1, 6))\n",
    "\n",
    "window = tk.Tk()\n",
    "window.columnconfigure(0, minsize=150)\n",
    "window.rowconfigure([0, 1], minsize=50)\n",
    "\n",
    "btn_roll = tk.Button(text=\"Roll\", command=roll)\n",
    "lbl_result = tk.Label()\n",
    "\n",
    "btn_roll.grid(row=0, column=0, sticky=\"nsew\")\n",
    "lbl_result.grid(row=1, column=0)\n",
    "\n",
    "window.mainloop()"
   ]
  },
  {
   "cell_type": "markdown",
   "metadata": {},
   "source": [
    "<img src=\"picture/saikoro.png\">"
   ]
  },
  {
   "cell_type": "markdown",
   "metadata": {},
   "source": [
    "## 温度変換器の作成"
   ]
  },
  {
   "cell_type": "markdown",
   "metadata": {},
   "source": [
    "華氏を摂氏に変換されるアプリケーションを作る．"
   ]
  },
  {
   "cell_type": "code",
   "execution_count": 11,
   "metadata": {},
   "outputs": [],
   "source": [
    "import tkinter as tk\n",
    "\n",
    "def fahrenheit_to_celsius():\n",
    "    \"\"\"Convert the value for Fahrenheit to Celsius and insert the\n",
    "    result into lbl_result.\n",
    "    \"\"\"\n",
    "    fahrenheit = ent_temperature.get()\n",
    "    celsius = (5/9) * (float(fahrenheit) - 32)\n",
    "    lbl_result[\"text\"] = f\"{round(celsius, 2)} \\N{DEGREE CELSIUS}\"\n",
    "\n",
    "# Set-up the window\n",
    "window = tk.Tk()\n",
    "window.title(\"Temperature Converter\")\n",
    "window.resizable(width=False, height=False)\n",
    "\n",
    "# Create the Fahrenheit entry frame with an Entry\n",
    "# widget and label in it\n",
    "frm_entry = tk.Frame(master=window)\n",
    "ent_temperature = tk.Entry(master=frm_entry, width=10)\n",
    "lbl_temp = tk.Label(master=frm_entry, text=\"\\N{DEGREE FAHRENHEIT}\")\n",
    "\n",
    "# Layout the temperature Entry and Label in frm_entry\n",
    "# using the .grid() geometry manager\n",
    "ent_temperature.grid(row=0, column=0, sticky=\"e\")\n",
    "lbl_temp.grid(row=0, column=1, sticky=\"w\")\n",
    "\n",
    "# Create the conversion Button and result display Label\n",
    "btn_convert = tk.Button(\n",
    "    master=window,\n",
    "    text=\"\\N{RIGHTWARDS BLACK ARROW}\",\n",
    "    command=fahrenheit_to_celsius\n",
    ")\n",
    "lbl_result = tk.Label(master=window, text=\"\\N{DEGREE CELSIUS}\")\n",
    "\n",
    "# Set-up the layout using the .grid() geometry manager\n",
    "frm_entry.grid(row=0, column=0, padx=10)\n",
    "btn_convert.grid(row=0, column=1, pady=10)\n",
    "lbl_result.grid(row=0, column=2, padx=10)\n",
    "\n",
    "# Run the application\n",
    "window.mainloop()"
   ]
  },
  {
   "cell_type": "markdown",
   "metadata": {},
   "source": [
    "<img src=\"picture/Tempura.png\">"
   ]
  },
  {
   "cell_type": "markdown",
   "metadata": {},
   "source": [
    "## テキストエディタの作成"
   ]
  },
  {
   "cell_type": "markdown",
   "metadata": {},
   "source": [
    "テキストファイルの作成，ファイルを開く，編集，保存が可能なアプリケーションを作成する．"
   ]
  },
  {
   "cell_type": "code",
   "execution_count": 2,
   "metadata": {},
   "outputs": [],
   "source": [
    "import tkinter as tk\n",
    "from tkinter.filedialog import askopenfilename, asksaveasfilename\n",
    "\n",
    "def open_file():\n",
    "    \"\"\"Open a file for editing.\"\"\"\n",
    "    filepath = askopenfilename(\n",
    "        filetypes=[(\"Text Files\", \"*.txt\"), (\"All Files\", \"*.*\")]\n",
    "    )\n",
    "    if not filepath:\n",
    "        return\n",
    "    txt_edit.delete(1.0, tk.END)\n",
    "    with open(filepath, \"r\") as input_file:\n",
    "        text = input_file.read()\n",
    "        txt_edit.insert(tk.END, text)\n",
    "    window.title(f\"Simple Text Editor - {filepath}\")\n",
    "\n",
    "def save_file():\n",
    "    \"\"\"Save the current file as a new file.\"\"\"\n",
    "    filepath = asksaveasfilename(\n",
    "        defaultextension=\"txt\",\n",
    "        filetypes=[(\"Text Files\", \"*.txt\"), (\"All Files\", \"*.*\")],\n",
    "    )\n",
    "    if not filepath:\n",
    "        return\n",
    "    with open(filepath, \"w\") as output_file:\n",
    "        text = txt_edit.get(1.0, tk.END)\n",
    "        output_file.write(text)\n",
    "    window.title(f\"Simple Text Editor - {filepath}\")\n",
    "\n",
    "window = tk.Tk()\n",
    "window.title(\"Simple Text Editor\")\n",
    "window.rowconfigure(0, minsize=800, weight=1)\n",
    "window.columnconfigure(1, minsize=800, weight=1)\n",
    "\n",
    "txt_edit = tk.Text(window)\n",
    "fr_buttons = tk.Frame(window, relief=tk.RAISED, bd=2)\n",
    "btn_open = tk.Button(fr_buttons, text=\"Open\", command=open_file)\n",
    "btn_save = tk.Button(fr_buttons, text=\"Save As...\", command=save_file)\n",
    "\n",
    "btn_open.grid(row=0, column=0, sticky=\"ew\", padx=5, pady=5)\n",
    "btn_save.grid(row=1, column=0, sticky=\"ew\", padx=5)\n",
    "\n",
    "fr_buttons.grid(row=0, column=0, sticky=\"ns\")\n",
    "txt_edit.grid(row=0, column=1, sticky=\"nsew\")\n",
    "\n",
    "window.mainloop()"
   ]
  },
  {
   "cell_type": "markdown",
   "metadata": {},
   "source": [
    "<img src=\"picture/texteditor.png\">"
   ]
  }
 ],
 "metadata": {
  "colab": {
   "name": "Tkinter_tutorial.ipynb",
   "provenance": []
  },
  "kernelspec": {
   "display_name": "Python 3",
   "language": "python",
   "name": "python3"
  },
  "language_info": {
   "codemirror_mode": {
    "name": "ipython",
    "version": 3
   },
   "file_extension": ".py",
   "mimetype": "text/x-python",
   "name": "python",
   "nbconvert_exporter": "python",
   "pygments_lexer": "ipython3",
   "version": "3.8.5"
  },
  "toc": {
   "base_numbering": 1,
   "nav_menu": {},
   "number_sections": true,
   "sideBar": true,
   "skip_h1_title": false,
   "title_cell": "Table of Contents",
   "title_sidebar": "Contents",
   "toc_cell": false,
   "toc_position": {
    "height": "calc(100% - 180px)",
    "left": "10px",
    "top": "150px",
    "width": "165px"
   },
   "toc_section_display": true,
   "toc_window_display": false
  }
 },
 "nbformat": 4,
 "nbformat_minor": 1
}
